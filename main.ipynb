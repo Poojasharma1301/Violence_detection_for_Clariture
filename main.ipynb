{
 "cells": [
  {
   "cell_type": "code",
   "execution_count": 2,
   "metadata": {},
   "outputs": [],
   "source": [
    "from __future__ import absolute_import\n",
    "from __future__  import division\n",
    "from __future__ import print_function\n",
    "import tensorflow as tf\n",
    "import numpy as np\n",
    "from skimage.io import imread\n",
    "from skimage.transform import resize\n",
    "import cv2\n",
    "import numpy as np\n",
    "import pandas as pd\n",
    "import matplotlib.pyplot as plt\n",
    "from mamonfight22 import *\n",
    "import os"
   ]
  },
  {
   "cell_type": "code",
   "execution_count": 3,
   "metadata": {},
   "outputs": [],
   "source": [
    "def mamon_videoFightModel2(tf,wight='mamonbest947oscombo.hdfs'):\n",
    "    layers = tf.keras.layers\n",
    "    models = tf.keras.models\n",
    "    losses = tf.keras.losses\n",
    "    optimizers = tf.keras.optimizers\n",
    "    metrics = tf.keras.metrics\n",
    "    num_classes = 2\n",
    "    cnn = models.Sequential()\n",
    "    #cnn.add(base_model)\n",
    "\n",
    "    input_shapes=(160,160,3)\n",
    "    np.random.seed(1234)\n",
    "    vg19 = tf.keras.applications.vgg19.VGG19\n",
    "    base_model = vg19(include_top=False,weights='imagenet',input_shape=(160, 160,3))\n",
    "    # Freeze the layers except the last 4 layers\n",
    "    #for layer in base_model.layers:\n",
    "    #    layer.trainable = False\n",
    "\n",
    "    cnn = models.Sequential()\n",
    "    cnn.add(base_model)\n",
    "    cnn.add(layers.Flatten())\n",
    "    model = models.Sequential()\n",
    "\n",
    "    model.add(layers.TimeDistributed(cnn,  input_shape=(30, 160, 160, 3)))\n",
    "    model.add(layers.LSTM(30 , return_sequences= True))\n",
    "\n",
    "    model.add(layers.TimeDistributed(layers.Dense(90)))\n",
    "    model.add(layers.Dropout(0.1))\n",
    "\n",
    "    model.add(layers.GlobalAveragePooling1D())\n",
    "\n",
    "    model.add(layers.Dense(512, activation='relu'))\n",
    "    model.add(layers.Dropout(0.3))\n",
    "\n",
    "    model.add(layers.Dense(num_classes, activation=\"sigmoid\"))\n",
    "\n",
    "    adam = optimizers.Adam(lr=0.0005, beta_1=0.9, beta_2=0.999, epsilon=1e-08)\n",
    "    model.load_weights(wight)\n",
    "    rms = optimizers.RMSprop()\n",
    "\n",
    "    model.compile(loss='binary_crossentropy', optimizer=adam, metrics=[\"accuracy\"])\n",
    "\n",
    "    return model\n",
    "\n",
    "def pred_fight(model,video,acuracy=0.9):\n",
    "    pred_test = model.predict(video)\n",
    "    if pred_test[0][1] >=acuracy:\n",
    "        return True , pred_test[0][1]\n",
    "    else:\n",
    "        return False , pred_test[0][1]"
   ]
  },
  {
   "cell_type": "code",
   "execution_count": 4,
   "metadata": {},
   "outputs": [
    {
     "name": "stderr",
     "output_type": "stream",
     "text": [
      "WARNING:absl:`lr` is deprecated, please use `learning_rate` instead, or use the legacy optimizer, e.g.,tf.keras.optimizers.legacy.Adam.\n"
     ]
    }
   ],
   "source": [
    "model = mamon_videoFightModel2(tf,wight='mamonbest947oscombo.hdf5')"
   ]
  },
  {
   "cell_type": "code",
   "execution_count": 5,
   "metadata": {},
   "outputs": [
    {
     "name": "stderr",
     "output_type": "stream",
     "text": [
      "C:\\Users\\gf63\\AppData\\Local\\Temp\\ipykernel_18824\\3172609100.py:3: DeprecationWarning: `np.float` is a deprecated alias for the builtin `float`. To silence this warning, use `float` by itself. Doing this will not modify any behavior and is safe. If you specifically wanted the numpy scalar type, use `np.float64` here.\n",
      "Deprecated in NumPy 1.20; for more details and guidance: https://numpy.org/devdocs/release/1.20.0-notes.html#deprecations\n",
      "  frames = np.zeros((30, 160, 160, 3), dtype=np.float)\n",
      "C:\\Users\\gf63\\AppData\\Local\\Temp\\ipykernel_18824\\3172609100.py:13: DeprecationWarning: `np.float` is a deprecated alias for the builtin `float`. To silence this warning, use `float` by itself. Doing this will not modify any behavior and is safe. If you specifically wanted the numpy scalar type, use `np.float64` here.\n",
      "Deprecated in NumPy 1.20; for more details and guidance: https://numpy.org/devdocs/release/1.20.0-notes.html#deprecations\n",
      "  ysdatav2 = np.zeros((1, 30, 160, 160, 3), dtype=np.float)\n"
     ]
    },
    {
     "name": "stdout",
     "output_type": "stream",
     "text": [
      "1/1 [==============================] - 10s 10s/step\n"
     ]
    },
    {
     "name": "stderr",
     "output_type": "stream",
     "text": [
      "C:\\Users\\gf63\\AppData\\Local\\Temp\\ipykernel_18824\\3172609100.py:34: DeprecationWarning: `np.float` is a deprecated alias for the builtin `float`. To silence this warning, use `float` by itself. Doing this will not modify any behavior and is safe. If you specifically wanted the numpy scalar type, use `np.float64` here.\n",
      "Deprecated in NumPy 1.20; for more details and guidance: https://numpy.org/devdocs/release/1.20.0-notes.html#deprecations\n",
      "  frames = np.zeros((30, 160, 160, 3), dtype=np.float)\n"
     ]
    },
    {
     "name": "stdout",
     "output_type": "stream",
     "text": [
      "1/1 [==============================] - 4s 4s/step\n",
      "1/1 [==============================] - 5s 5s/step\n",
      "1/1 [==============================] - 3s 3s/step\n",
      "1/1 [==============================] - 3s 3s/step\n",
      "1/1 [==============================] - 3s 3s/step\n",
      "1/1 [==============================] - 4s 4s/step\n",
      "1/1 [==============================] - 3s 3s/step\n",
      "1/1 [==============================] - 3s 3s/step\n",
      "1/1 [==============================] - 3s 3s/step\n",
      "1/1 [==============================] - 3s 3s/step\n",
      "1/1 [==============================] - 3s 3s/step\n",
      "1/1 [==============================] - 3s 3s/step\n",
      "1/1 [==============================] - 3s 3s/step\n",
      "1/1 [==============================] - 3s 3s/step\n",
      "1/1 [==============================] - 3s 3s/step\n"
     ]
    }
   ],
   "source": [
    "cap = cv2.VideoCapture('hospital.mp4')\n",
    "i = 0\n",
    "frames = np.zeros((30, 160, 160, 3), dtype=np.float)\n",
    "old = []\n",
    "j = 0\n",
    "while(True):\n",
    "    ret, frame = cap.read()\n",
    "  \n",
    "    # describe the type of font\n",
    "    # to be used.\n",
    "    font = cv2.FONT_HERSHEY_SIMPLEX\n",
    "    if i > 29:\n",
    "        ysdatav2 = np.zeros((1, 30, 160, 160, 3), dtype=np.float)\n",
    "        ysdatav2[0][:][:] = frames\n",
    "        predaction = pred_fight(model,ysdatav2,acuracy=0.96)\n",
    "        if predaction[0] == True:\n",
    "            cv2.putText(frame, \n",
    "                'Violance Deacted  ... Violence .. violence', \n",
    "                (50, 50), \n",
    "                font, 3, \n",
    "                (0, 255, 255), \n",
    "                2, \n",
    "                cv2.LINE_4)\n",
    "            cv2.imshow('video', frame)\n",
    "            print('Violance detacted here ...')\n",
    "            fourcc = cv2.VideoWriter_fourcc(*'XVID')\n",
    "            vio = cv2.VideoWriter(\"./videos/output-\"+str(j)+\".avi\", fourcc, 10.0, (fwidth,fheight))\n",
    "            #vio = cv2.VideoWriter(\"./videos/output-\"+str(j)+\".mp4\", cv2.VideoWriter_fourcc(*'mp4v'), 10, (300, 400))\n",
    "            for frameinss in old:\n",
    "                vio.write(frameinss)\n",
    "            vio.release()\n",
    "        i = 0\n",
    "        j += 1\n",
    "        frames = np.zeros((30, 160, 160, 3), dtype=np.float)\n",
    "        old = []\n",
    "    else:\n",
    "        frm = resize(frame,(160,160,3))\n",
    "        old.append(frame)\n",
    "        fshape = frame.shape\n",
    "        fheight = fshape[0]\n",
    "        fwidth = fshape[1]\n",
    "        frm = np.expand_dims(frm,axis=0)\n",
    "        if(np.max(frm)>1):\n",
    "            frm = frm/255.0\n",
    "        frames[i][:] = frm\n",
    "        \n",
    "        i+=1\n",
    "    \n",
    "    cv2.imshow('video', frame)\n",
    "  \n",
    "\n",
    "    if cv2.waitKey(1) & 0xFF == ord('q'):\n",
    "        break\n",
    "\n",
    "cap.release()\n",
    "\n",
    "cv2.destroyAllWindows()"
   ]
  },
  {
   "cell_type": "code",
   "execution_count": null,
   "metadata": {},
   "outputs": [],
   "source": []
  }
 ],
 "metadata": {
  "kernelspec": {
   "display_name": "base",
   "language": "python",
   "name": "python3"
  },
  "language_info": {
   "codemirror_mode": {
    "name": "ipython",
    "version": 3
   },
   "file_extension": ".py",
   "mimetype": "text/x-python",
   "name": "python",
   "nbconvert_exporter": "python",
   "pygments_lexer": "ipython3",
   "version": "3.9.13"
  },
  "orig_nbformat": 4
 },
 "nbformat": 4,
 "nbformat_minor": 2
}
